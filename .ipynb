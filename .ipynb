{
 "cells": [
  {
   "cell_type": "code",
   "execution_count": 19,
   "metadata": {},
   "outputs": [
    {
     "name": "stdout",
     "output_type": "stream",
     "text": [
      "TestSubClass\u0004\u0000aa\u0018TestSubClass\u0004\u0000bb\u001aSystem.String\u0012\u0000aaaaaaaaa"
     ]
    }
   ],
   "source": [
    "arr = [\n",
    "84,0,101,0,115,0,116,0,83,0,117,0,98,0,67,0,108,0,97,0,115,0,115,0,4,0,0,0,97,0,97,0,24,0,84,0,101,0,115,0,116,0,83,0,117,0,98,0,67,0,108,0,97,0,115,0,115,0,4,0,0,0,98,0,98,0,26,0,83,0,121,0,115,0,116,0,101,0,109,0,46,0,83,0,116,0,114,0,105,0,110,0,103,0,18,0,0,0,97,0,97,0,97,0,97,0,97,0,97,0,97,0,97,0,97,0,]\n",
    "for i in range(0,len(arr),2):\n",
    "    print(chr(arr[i]), end=\"\")"
   ]
  },
  {
   "cell_type": "code",
   "execution_count": null,
   "metadata": {},
   "outputs": [],
   "source": []
  }
 ],
 "metadata": {
  "kernelspec": {
   "display_name": "Python 3",
   "language": "python",
   "name": "python3"
  },
  "language_info": {
   "codemirror_mode": {
    "name": "ipython",
    "version": 3
   },
   "file_extension": ".py",
   "mimetype": "text/x-python",
   "name": "python",
   "nbconvert_exporter": "python",
   "pygments_lexer": "ipython3",
   "version": "3.11.9"
  }
 },
 "nbformat": 4,
 "nbformat_minor": 2
}
